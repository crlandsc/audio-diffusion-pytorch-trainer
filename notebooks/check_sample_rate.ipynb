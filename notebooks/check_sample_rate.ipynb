{
 "cells": [
  {
   "cell_type": "markdown",
   "id": "584d8e15",
   "metadata": {},
   "source": [
    "## Check Sample Rate\n",
    "This notebook allows for quickly checking the sample rates of files within a directory"
   ]
  },
  {
   "cell_type": "code",
   "execution_count": 1,
   "id": "5adc7c40",
   "metadata": {},
   "outputs": [],
   "source": [
    "#imports\n",
    "import torchaudio\n",
    "from torch import Tensor, nn\n",
    "import os"
   ]
  },
  {
   "cell_type": "code",
   "execution_count": 2,
   "id": "aa59e662",
   "metadata": {},
   "outputs": [],
   "source": [
    "# Class for resampling (not currently utilized)\n",
    "class Resample(nn.Module):\n",
    "    \"\"\"Resamples frequency of waveform\"\"\"\n",
    "\n",
    "    def __init__(self, source: int, target: int):\n",
    "        super().__init__()\n",
    "        self.transform = torchaudio.transforms.Resample(\n",
    "            orig_freq=source, new_freq=target\n",
    "        )\n",
    "\n",
    "    def forward(self, x: Tensor) -> Tensor:\n",
    "        return self.transform(x)"
   ]
  },
  {
   "cell_type": "code",
   "execution_count": 3,
   "id": "f740a8cc",
   "metadata": {},
   "outputs": [],
   "source": [
    "# Return relative file paths of each file within a directory\n",
    "def get_relative_file_paths(folder_path):\n",
    "    file_paths = []\n",
    "    for root, dirs, files in os.walk(folder_path):\n",
    "        for file_name in files:\n",
    "            file_path = os.path.join(root, file_name)\n",
    "            file_paths.append(file_path)\n",
    "    return file_paths"
   ]
  },
  {
   "cell_type": "code",
   "execution_count": 4,
   "id": "c391c3e1",
   "metadata": {},
   "outputs": [],
   "source": [
    "def check_sample_rate(file_list):\n",
    "    \"\"\"Check the smaple rate of each file given a list of file paths.\n",
    "    Returns list of sample rates and a set of unique smaple rates to quickly see if srs match.\n",
    "    Also returns num channels to confirm if tracks stereo or mono.\"\"\"\n",
    "    srs = []\n",
    "    channels = []\n",
    "    for file in file_list:\n",
    "        audio, sr = torchaudio.load(file)\n",
    "        channels.append(audio.shape[0])\n",
    "        srs.append(sr)\n",
    "    return srs, list(set(srs)), list(set(channels))"
   ]
  },
  {
   "cell_type": "code",
   "execution_count": 5,
   "id": "f0ee483a",
   "metadata": {},
   "outputs": [
    {
     "name": "stdout",
     "output_type": "stream",
     "text": [
      "Number of files: 142\n",
      "Sample rates: [44100]\n",
      "Channels: [2]\n"
     ]
    }
   ],
   "source": [
    "folder_path = '../data/wav_dataset/kicks/'\n",
    "files = get_relative_file_paths(folder_path)\n",
    "srs, unique_srs, channels = check_sample_rate(files)\n",
    "print(f\"Number of files: {len(srs)}\")\n",
    "print(f\"Sample rates: {unique_srs}\")\n",
    "print(f\"Channels: {channels}\")"
   ]
  },
  {
   "cell_type": "code",
   "execution_count": null,
   "id": "78b4c0cb",
   "metadata": {},
   "outputs": [],
   "source": []
  }
 ],
 "metadata": {
  "kernelspec": {
   "display_name": "Diffusion (Python 3.10)",
   "language": "python",
   "name": "diffusion"
  },
  "language_info": {
   "codemirror_mode": {
    "name": "ipython",
    "version": 3
   },
   "file_extension": ".py",
   "mimetype": "text/x-python",
   "name": "python",
   "nbconvert_exporter": "python",
   "pygments_lexer": "ipython3",
   "version": "3.10.11"
  }
 },
 "nbformat": 4,
 "nbformat_minor": 5
}
